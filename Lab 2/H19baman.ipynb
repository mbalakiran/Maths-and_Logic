{
 "cells": [
  {
   "cell_type": "code",
   "execution_count": 7,
   "metadata": {},
   "outputs": [],
   "source": [
    "import sys"
   ]
  },
  {
   "cell_type": "markdown",
   "metadata": {},
   "source": [
    "1) Code up this set of nested loops\n",
    "\n",
    "for i = 1 to 5\n",
    "for j = 1 to i\n",
    "for k = 1 to j\n",
    "print ”maths is fun”\n",
    "next k\n",
    "next j\n",
    "next i\n",
    "\n",
    "The general formula for analysis of these kinds of nested structures is:\n",
    "\n",
    "\n",
    "                        (n+p-1)!/n!(p-1)!\n",
    "\n",
    "Where p is the size of the outermost loop and n is the number of loops.\n",
    "\n",
    "\n",
    "Experimentally verify that this general formula for the number of print statements executed is correct. To do this for larger n and p I suggest you use a counter variable instead of actually counting the number of print statements. Vary both n and p."
   ]
  },
  {
   "cell_type": "code",
   "execution_count": 1,
   "metadata": {},
   "outputs": [
    {
     "name": "stdout",
     "output_type": "stream",
     "text": [
      "Enter the number of Loops(n)3\n",
      "Enter the size of outer Loop(p)5\n",
      "Count of inner Iteration of loops: 35\n"
     ]
    }
   ],
   "source": [
    "# Calclates factorial of a number\n",
    "def fact(number):\n",
    "    return 1 if number==1 else number*fact(number-1)\n",
    "\n",
    "n=int(input(\"Enter the number of Loops(n)\"))\n",
    "p=int(input(\"Enter the size of outer Loop(p)\"))\n",
    "# caluclating the iteration of loops using total number of loops and size of the outer loop\n",
    "iterCount=int(fact(n+p-1)/(fact(n)*fact(p-1)))\n",
    "print(\"Count of inner Iteration of loops:\",iterCount)"
   ]
  },
  {
   "cell_type": "code",
   "execution_count": 3,
   "metadata": {},
   "outputs": [
    {
     "name": "stdout",
     "output_type": "stream",
     "text": [
      "Enter size of loop(n): 3\n",
      "Enter the size of outer loop(p): 5\n",
      "Math is fun 1\n",
      "Math is fun 1\n",
      "Math is fun 1\n",
      "Math is fun 2\n",
      "Math is fun 1\n",
      "Math is fun 1\n",
      "Math is fun 2\n",
      "Math is fun 1\n",
      "Math is fun 2\n",
      "Math is fun 3\n",
      "Math is fun 1\n",
      "Math is fun 1\n",
      "Math is fun 2\n",
      "Math is fun 1\n",
      "Math is fun 2\n",
      "Math is fun 3\n",
      "Math is fun 1\n",
      "Math is fun 2\n",
      "Math is fun 3\n",
      "Math is fun 4\n",
      "Math is fun 1\n",
      "Math is fun 1\n",
      "Math is fun 2\n",
      "Math is fun 1\n",
      "Math is fun 2\n",
      "Math is fun 3\n",
      "Math is fun 1\n",
      "Math is fun 2\n",
      "Math is fun 3\n",
      "Math is fun 4\n",
      "Math is fun 1\n",
      "Math is fun 2\n",
      "Math is fun 3\n",
      "Math is fun 4\n",
      "Math is fun 5\n",
      "Count of prints: 35\n"
     ]
    }
   ],
   "source": [
    "n=int(input(\"Enter size of loop(n): \"))\n",
    "p=int(input(\"Enter the size of outer loop(p): \"))\n",
    "counter=0\n",
    "# Iterating through the loops printing statement\n",
    "for r in range(1,p+1):\n",
    "    for c in range(1,r+1):\n",
    "        for rc in range(1,c+1):\n",
    "            counter +=1\n",
    "            print(\"Math is fun\")\n",
    "print(\"Count of prints:\",counter)"
   ]
  },
  {
   "cell_type": "markdown",
   "metadata": {},
   "source": [
    "In the above case I have proven the mathematical formula and the code for the number of the loops"
   ]
  },
  {
   "cell_type": "markdown",
   "metadata": {},
   "source": [
    "2) Investigate how many of the four digit numbers between 0001 and 9999 have four digits which are increasing (i.e. 1358). Do a combinatoric analysis which verifies the experimental result."
   ]
  },
  {
   "cell_type": "code",
   "execution_count": 4,
   "metadata": {},
   "outputs": [
    {
     "name": "stdout",
     "output_type": "stream",
     "text": [
      "Total four digit numbers in the gievn range between 0001 and 9999(which has Incresing number): 210\n"
     ]
    }
   ],
   "source": [
    "# Calclates factorial of a number\n",
    "def fact(number):\n",
    "    return 1 if number==1 else number*fact(number-1)\n",
    "# totalNumbers is a variable that holds total number of digits from 0 to 9\n",
    "totalNumbers=10\n",
    "\n",
    "# numberOfDigits is a variable that hold number of a digits for the analysis\n",
    "numberOfDigits=4\n",
    "\n",
    "# caluclating how many of the four digit numbers between 0001 and 9999 have four digits which are increasing\n",
    "numberCount=int(fact(totalNumbers)/(fact(totalNumbers-numberOfDigits)*fact(numberOfDigits)))\n",
    "print(\"Total four digit numbers in the gievn range between 0001 and 9999(which has Incresing number):\", numberCount)"
   ]
  },
  {
   "cell_type": "markdown",
   "metadata": {},
   "source": [
    "We would be chosing 10 numbers they are from 0 - 9 and we have 4 numbers to fit that is 4 combinations.\n",
    "\n",
    "By using the nCr combinations formula we have n!/r!(n-r)!\n",
    "\n",
    "so we have 10C4 = 10!/4!(10-4)! which is 210"
   ]
  },
  {
   "cell_type": "code",
   "execution_count": 9,
   "metadata": {},
   "outputs": [
    {
     "name": "stdout",
     "output_type": "stream",
     "text": [
      "210\n",
      "['0123', '0124', '0125', '0126', '0127', '0128', '0129', '0134', '0135', '0136', '0137', '0138', '0139', '0145', '0146', '0147', '0148', '0149', '0156', '0157', '0158', '0159', '0167', '0168', '0169', '0178', '0179', '0189', '0234', '0235', '0236', '0237', '0238', '0239', '0245', '0246', '0247', '0248', '0249', '0256', '0257', '0258', '0259', '0267', '0268', '0269', '0278', '0279', '0289', '0345', '0346', '0347', '0348', '0349', '0356', '0357', '0358', '0359', '0367', '0368', '0369', '0378', '0379', '0389', '0456', '0457', '0458', '0459', '0467', '0468', '0469', '0478', '0479', '0489', '0567', '0568', '0569', '0578', '0579', '0589', '0678', '0679', '0689', '0789', 1234, 1235, 1236, 1237, 1238, 1239, 1245, 1246, 1247, 1248, 1249, 1256, 1257, 1258, 1259, 1267, 1268, 1269, 1278, 1279, 1289, 1345, 1346, 1347, 1348, 1349, 1356, 1357, 1358, 1359, 1367, 1368, 1369, 1378, 1379, 1389, 1456, 1457, 1458, 1459, 1467, 1468, 1469, 1478, 1479, 1489, 1567, 1568, 1569, 1578, 1579, 1589, 1678, 1679, 1689, 1789, 2345, 2346, 2347, 2348, 2349, 2356, 2357, 2358, 2359, 2367, 2368, 2369, 2378, 2379, 2389, 2456, 2457, 2458, 2459, 2467, 2468, 2469, 2478, 2479, 2489, 2567, 2568, 2569, 2578, 2579, 2589, 2678, 2679, 2689, 2789, 3456, 3457, 3458, 3459, 3467, 3468, 3469, 3478, 3479, 3489, 3567, 3568, 3569, 3578, 3579, 3589, 3678, 3679, 3689, 3789, 4567, 4568, 4569, 4578, 4579, 4589, 4678, 4679, 4689, 4789, 5678, 5679, 5689, 5789, 6789]\n"
     ]
    }
   ],
   "source": [
    "numb = [] \n",
    "for i in range(0, 9999): \n",
    "    a = int(i / 1000)\n",
    "    b = int((i - a * 1000) / 100)\n",
    "    c = int((i - ((a * 1000)+(b*100))) / 10 )\n",
    "    d = (i - a * 1000 + b * 100) % 10\n",
    "    if a < b and b < c and c < d:\n",
    "        if i < 1000:\n",
    "            numb.append(\"{}{}\".format(0, i))\n",
    "        else:\n",
    "            numb.append(i)\n",
    "print(len(numb))\n",
    "print(numb)"
   ]
  },
  {
   "cell_type": "markdown",
   "metadata": {},
   "source": [
    "3) Suppose you toss a coin 6 times and you are interested in the maximum number of heads you get in a row. For example HTTHHH scores three. HHTHHT scores two and HHHHHT scores 5.\n",
    "\n",
    "\n",
    "Write a program which works out the probability of each possible score. Start by using this simple method:"
   ]
  },
  {
   "cell_type": "code",
   "execution_count": 7,
   "metadata": {},
   "outputs": [],
   "source": [
    "import random\n",
    "def flip():\n",
    "    flipValue = random.randint(1,2)\n",
    "    if flipValue == 1:\n",
    "        side = \"Heads\"\n",
    "    else:\n",
    "        side = \"Tails\"\n",
    "    return side\n",
    "\n",
    "def nStreak():\n",
    "    numFlips = int(input(\"Number of flips:\"))\n",
    "    lengthStreak = int(input(\"Length of streak:\"))\n",
    "    numRuns = 0\n",
    "    heads = 0\n",
    "    tails = 0\n",
    "    numStreakHeads = 0\n",
    "    numStreakTails = 0\n",
    "    while numRuns != numFlips:\n",
    "        side = flip()\n",
    "        numRuns += 1\n",
    "        if side == \"Heads\":\n",
    "            heads += 1\n",
    "            tails = 0\n",
    "            if heads == lengthStreak:\n",
    "                numStreakHeads += 1\n",
    "                heads = 0\n",
    "        if side == \"Tails\":\n",
    "            tails += 1\n",
    "            heads = 0\n",
    "            if tails == lengthStreak:\n",
    "                numStreakTails += 1\n",
    "                tails = 0\n",
    "    print(\"Number of heads streaks:\", numStreakHeads)\n",
    "    print(\"Number of tails streaks:\", numStreakTails)"
   ]
  },
  {
   "cell_type": "code",
   "execution_count": 11,
   "metadata": {
    "scrolled": true
   },
   "outputs": [
    {
     "name": "stdout",
     "output_type": "stream",
     "text": [
      "Number of flips:6\n",
      "Length of streak:2\n",
      "Number of heads streaks: 2\n",
      "Number of tails streaks: 0\n"
     ]
    }
   ],
   "source": [
    "nStreak()"
   ]
  },
  {
   "cell_type": "markdown",
   "metadata": {},
   "source": [
    "Let the expected number of coin flips be x. Now, there are three possible cases as listed below:\n",
    "\n",
    "\n",
    "\n",
    "If a tail appears on the first flip of coin. If in the first flip, a tail occurs then it means that we have wasted one flip and we will have to do x more flips to reach our goal. The probability of this event is 1/2 and the total number of flips now required will be x+1.\n",
    "If a heads appears on the first flip of coin and a tails appears on the second flip. In this case it means that we have wasted two flips and we will have to do x more flips to reach our goal. Therefore the total number of flips now required will be x+2 and the probability of this event is 1/4.\n",
    "The last case is, if we get two consecutive heads on two consecutive flips of the coin respectively. The probability of this event is 1/4 and the total number of flips required will be 2.\n",
    "\n",
    "x = (1/2)(x+1) + (1/4)(x+2) + (1/4)2\n",
    "\n",
    "x = 1/2 [ (1+x) + 1/2(2+x) + 1 ]\n",
    "\n",
    "x = 1/2 [ 1 + x + 1 + x/2 + 1 ]\n",
    "\n",
    "x / 4 = 3/2\n",
    "\n",
    "x = 6"
   ]
  },
  {
   "attachments": {
    "image.png": {
     "image/png": "[encoded data removed]"
    }
   },
   "cell_type": "markdown",
   "metadata": {},
   "source": [
    "![image.png](attachment:image.png)\n",
    "\n",
    "p is the probability, n is the number of trials ran, and N is the number of successes. We know now that for the binomial distribution to work we need two variables, n and p.\n",
    "This opens the question, do we want to see each flip and track it or are we satisfied with just the number of times a positive (1) event occurred? I’m on board with seeing an array of events, just for fun. So we will need an array to store the results in. Thank goodness numpy can do all of that!"
   ]
  },
  {
   "cell_type": "code",
   "execution_count": 8,
   "metadata": {},
   "outputs": [
    {
     "name": "stdout",
     "output_type": "stream",
     "text": [
      "How many times do you want to toss every coin: 5\n",
      "Probability of  0  heads is:  0.03125\n",
      "Probability of  1  heads is:  0.15625\n",
      "Probability of  2  heads is:  0.3125\n",
      "Probability of  3  heads is:  0.3125\n",
      "Probability of  4  heads is:  0.15625\n",
      "Probability of  5  heads is:  0.03125\n"
     ]
    }
   ],
   "source": [
    "tosses = int(input(\"How many times do you want to toss every coin: \"))\n",
    "\n",
    "outc = 2 ** tosses\n",
    "probabilities = []\n",
    "def factorial(prob):\n",
    "    result = 1 \n",
    "    for i in range(1, (prob+1)): \n",
    "        result = result * i \n",
    "    return result\n",
    "\n",
    "for i in range(0, (tosses+1)):\n",
    "    occur = factorial(tosses) / (factorial(tosses-i) * factorial(i))\n",
    "    probabilities.append(occur / outc)\n",
    "\n",
    "for i in range(0, (len(probabilities))):\n",
    "    print(\"Probability of \", i, \" heads is: \", probabilities[i])"
   ]
  },
  {
   "cell_type": "markdown",
   "metadata": {},
   "source": [
    "The probality of occuring of the continious heads"
   ]
  }
 ],
 "metadata": {
  "kernelspec": {
   "display_name": "Python 3",
   "language": "python",
   "name": "python3"
  },
  "language_info": {
   "codemirror_mode": {
    "name": "ipython",
    "version": 3
   },
   "file_extension": ".py",
   "mimetype": "text/x-python",
   "name": "python",
   "nbconvert_exporter": "python",
   "pygments_lexer": "ipython3",
   "version": "3.8.2"
  }
 },
 "nbformat": 4,
 "nbformat_minor": 4
}
