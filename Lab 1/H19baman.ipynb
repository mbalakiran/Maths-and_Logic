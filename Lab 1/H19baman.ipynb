{
 "cells": [
  {
   "cell_type": "code",
   "execution_count": 3,
   "metadata": {},
   "outputs": [],
   "source": [
    "%matplotlib inline\n",
    "\n",
    "import matplotlib\n",
    "import matplotlib.pyplot as plt"
   ]
  },
  {
   "cell_type": "code",
   "execution_count": 4,
   "metadata": {},
   "outputs": [],
   "source": [
    "import timeit"
   ]
  },
  {
   "cell_type": "raw",
   "metadata": {},
   "source": [
    "# 1) Write an iterative program which computes the Fibonacci series. Fn = Fn-1 + Fn-2, with F0 = 1, F1 = 1"
   ]
  },
  {
   "cell_type": "code",
   "execution_count": 5,
   "metadata": {},
   "outputs": [],
   "source": [
    "def fib_iterative(n):\n",
    "    a, b = 1, 1\n",
    "    while n > 1:\n",
    "        a, b = b, a + b\n",
    "        n -= 1\n",
    "    return a"
   ]
  },
  {
   "cell_type": "code",
   "execution_count": 6,
   "metadata": {},
   "outputs": [
    {
     "data": {
      "text/plain": [
       "55"
      ]
     },
     "execution_count": 6,
     "metadata": {},
     "output_type": "execute_result"
    }
   ],
   "source": [
    "fib_iterative(10)"
   ]
  },
  {
   "cell_type": "code",
   "execution_count": 5,
   "metadata": {},
   "outputs": [
    {
     "name": "stdout",
     "output_type": "stream",
     "text": [
      "14.5 µs ± 435 ns per loop (mean ± std. dev. of 7 runs, 100000 loops each)\n"
     ]
    }
   ],
   "source": [
    "%timeit fib_iterative(77) "
   ]
  },
  {
   "cell_type": "raw",
   "metadata": {},
   "source": [
    "Write a recursive program which takes an integer n and returns the nth Fibonacci number."
   ]
  },
  {
   "cell_type": "code",
   "execution_count": 7,
   "metadata": {},
   "outputs": [],
   "source": [
    "def fib_recursive(n):\n",
    "    if n == 0:\n",
    "        return 0\n",
    "    elif n == 1:\n",
    "        return 1\n",
    "    else:\n",
    "        return fib_recursive(n-2) + fib_recursive(n-1)"
   ]
  },
  {
   "cell_type": "code",
   "execution_count": 8,
   "metadata": {},
   "outputs": [
    {
     "data": {
      "text/plain": [
       "55"
      ]
     },
     "execution_count": 8,
     "metadata": {},
     "output_type": "execute_result"
    }
   ],
   "source": [
    "fib_recursive(10)"
   ]
  },
  {
   "cell_type": "code",
   "execution_count": 8,
   "metadata": {},
   "outputs": [
    {
     "name": "stdout",
     "output_type": "stream",
     "text": [
      "44.7 µs ± 2.24 µs per loop (mean ± std. dev. of 7 runs, 10000 loops each)\n"
     ]
    }
   ],
   "source": [
    "%timeit fib_recursive(10)"
   ]
  },
  {
   "cell_type": "markdown",
   "metadata": {},
   "source": [
    "# # CALCULATE THE RUNNING TIME"
   ]
  },
  {
   "cell_type": "code",
   "execution_count": 9,
   "metadata": {},
   "outputs": [],
   "source": [
    "import timeit\n",
    "from timeit import Timer"
   ]
  },
  {
   "cell_type": "code",
   "execution_count": 10,
   "metadata": {},
   "outputs": [],
   "source": [
    "rec_t = Timer(\"fib_recursive(n)\",\"from __main__ import fib_recursive,n\")\n",
    "#n=100\n",
    "#rec_t.timeit(number=1000)\n",
    "it_t = Timer(\"fib_iterative(n)\",\"from __main__ import fib_iterative,n\")\n",
    "\n",
    "rec_t_lst = []\n",
    "it_t_lst = []\n",
    "for i in range(1,20,1):\n",
    "    n=i\n",
    "    rec_t_lst.append(rec_t.timeit(number=20)/20)\n",
    "    it_t_lst.append(it_t.timeit(number=20)/20)"
   ]
  },
  {
   "cell_type": "code",
   "execution_count": 11,
   "metadata": {
    "scrolled": true
   },
   "outputs": [
    {
     "data": {
      "image/png": "[encoded data removed]",
      "text/plain": [
       "<Figure size 432x288 with 1 Axes>"
      ]
     },
     "metadata": {
      "needs_background": "light"
     },
     "output_type": "display_data"
    }
   ],
   "source": [
    "x = list(range(1,20,1))\n",
    "\n",
    "plt.plot(x, rec_t_lst, \"+\", label='Recursive')\n",
    "plt.plot(x, it_t_lst, \"x\", label='Iterative')\n",
    "\n",
    "plt.xlabel('Input, $n$')\n",
    "plt.ylabel('Time, secs')\n",
    "\n",
    "plt.title(\"Iterative Factorial vs Recursive Factorial\")\n",
    "\n",
    "plt.legend()\n",
    "\n",
    "plt.show()"
   ]
  },
  {
   "cell_type": "raw",
   "metadata": {},
   "source": [
    "ANS) We note that as the N inputs increases the Iterative funtions performs better rather than the Recursive Function"
   ]
  },
  {
   "cell_type": "raw",
   "metadata": {},
   "source": [
    "3) Investigate the periodicity of the last two digits of the Fibonacci series. Does the series eventually repeat itself?"
   ]
  },
  {
   "cell_type": "code",
   "execution_count": 12,
   "metadata": {},
   "outputs": [],
   "source": [
    "def pisanoPeriod(m): \n",
    "    previous, current = 0, 1\n",
    "    for i in range(0, m * m): \n",
    "        previous, current = current, (previous + current) % m \n",
    "        # A Pisano Period starts with 01 \n",
    "        if (previous == 0 and current == 1): \n",
    "            return i + 1"
   ]
  },
  {
   "cell_type": "markdown",
   "metadata": {},
   "source": [
    "Pisano peroid will be having a sequence when the Fibonacci series is divided with any number at one point the sequence would be repeating its self.\n",
    "\n",
    "For Example if we divide the Fibonacci series with 5 the sequence lenthg would be 20 if F(0) = 0 and F(1) = 1 & 21 if F(0) =1 and F(1) = 1"
   ]
  },
  {
   "cell_type": "code",
   "execution_count": 16,
   "metadata": {},
   "outputs": [
    {
     "data": {
      "text/plain": [
       "24"
      ]
     },
     "execution_count": 16,
     "metadata": {},
     "output_type": "execute_result"
    }
   ],
   "source": [
    "pisanoPeriod(6)"
   ]
  },
  {
   "cell_type": "code",
   "execution_count": 14,
   "metadata": {},
   "outputs": [
    {
     "name": "stdout",
     "output_type": "stream",
     "text": [
      "11.5 µs ± 262 ns per loop (mean ± std. dev. of 7 runs, 100000 loops each)\n"
     ]
    }
   ],
   "source": [
    "%timeit pisanoPeriod(10)"
   ]
  },
  {
   "cell_type": "markdown",
   "metadata": {},
   "source": [
    "The above output shows the period of that number when it divides the Fibonacci series"
   ]
  },
  {
   "cell_type": "code",
   "execution_count": 15,
   "metadata": {},
   "outputs": [],
   "source": [
    "def fibonacciModulo(n, m): \n",
    "      \n",
    "    # Getting the period \n",
    "    pisano_period = pisanoPeriod(m) \n",
    "      \n",
    "    # Taking mod of N with  \n",
    "    # period length \n",
    "    n = n % pisano_period \n",
    "      \n",
    "    previous, current = 0, 1\n",
    "    if n==0: \n",
    "        return 0\n",
    "    elif n==1: \n",
    "        return 1\n",
    "    for i in range(n-1): \n",
    "        previous, current = current, previous + current \n",
    "          \n",
    "    return (current % m) "
   ]
  },
  {
   "cell_type": "markdown",
   "metadata": {},
   "source": [
    "Now we would be finding the period with the division where N would be the number and we would be calculating Fibonacci series of the number N and later we would be diving the number N by M.\n",
    "\n",
    "If we divide an number like 2057 with 20 so i will be diving it as 2057 Mod 60(Pisano Period of 20 is 60). So 2057 mod 60 is 17. Therefore F(2057) Mod 20 = F(17) Mod 20 = 17"
   ]
  },
  {
   "cell_type": "code",
   "execution_count": 16,
   "metadata": {
    "scrolled": true
   },
   "outputs": [
    {
     "data": {
      "text/plain": [
       "17"
      ]
     },
     "execution_count": 16,
     "metadata": {},
     "output_type": "execute_result"
    }
   ],
   "source": [
    "fibonacciModulo(2057,20)"
   ]
  },
  {
   "cell_type": "code",
   "execution_count": 17,
   "metadata": {},
   "outputs": [
    {
     "name": "stdout",
     "output_type": "stream",
     "text": [
      "1.77 µs ± 73.9 ns per loop (mean ± std. dev. of 7 runs, 1000000 loops each)\n"
     ]
    }
   ],
   "source": [
    "%timeit fibonacciModulo(100,2)"
   ]
  },
  {
   "cell_type": "markdown",
   "metadata": {},
   "source": [
    "4) Consider these “modified” versions of the Fibonacci series:"
   ]
  },
  {
   "cell_type": "markdown",
   "metadata": {},
   "source": [
    "Fn = 2Fm-1 + Fm-2, with F0 = 1, F1 = 1(iterative)"
   ]
  },
  {
   "cell_type": "code",
   "execution_count": 18,
   "metadata": {},
   "outputs": [
    {
     "name": "stdout",
     "output_type": "stream",
     "text": [
      "How many terms? 10\n",
      "Fibonacci sequence:\n",
      "1\n",
      "1\n",
      "3\n",
      "5\n",
      "11\n",
      "21\n",
      "43\n",
      "85\n",
      "171\n",
      "341\n",
      "683\n"
     ]
    }
   ],
   "source": [
    "def itt_fib_p():\n",
    "    nterms = int(input(\"How many terms? \"))\n",
    "\n",
    "# first two terms\n",
    "    n1, n2 = 1, 1\n",
    "    count = 0\n",
    "\n",
    "# check if the number of terms is valid\n",
    "    if nterms < 0:\n",
    "       print(\"Please enter a positive integer\")\n",
    "    elif nterms == 0:\n",
    "       print(\"Fibonacci sequence upto\",nterms,\":\")\n",
    "       print(n1)\n",
    "    elif nterms == 1:\n",
    "       print(\"Fibonacci sequence upto\",nterms,\":\")\n",
    "       print(n1)\n",
    "    else:\n",
    "       print(\"Fibonacci sequence:\")\n",
    "       while count < nterms+1:\n",
    "           print(n1)\n",
    "           nth = (2 * n1) + n2\n",
    "       # update values\n",
    "           n1 = n2\n",
    "           n2 = nth\n",
    "           count += 1\n",
    "itt_fib_p()"
   ]
  },
  {
   "cell_type": "markdown",
   "metadata": {},
   "source": [
    "Fp = Fp-1 + 2Fp-2, with F0 = 1, F1 = 1(iterative)"
   ]
  },
  {
   "cell_type": "code",
   "execution_count": 19,
   "metadata": {
    "scrolled": true
   },
   "outputs": [
    {
     "name": "stdout",
     "output_type": "stream",
     "text": [
      "How many terms? 10\n",
      "Fibonacci sequence:\n",
      "1\n",
      "1\n",
      "3\n",
      "7\n",
      "17\n",
      "41\n",
      "99\n",
      "239\n",
      "577\n",
      "1393\n",
      "3363\n"
     ]
    }
   ],
   "source": [
    "def itt_fib_p():\n",
    "    nterms = int(input(\"How many terms? \"))\n",
    "\n",
    "# first two terms\n",
    "    n1, n2 = 1, 1\n",
    "    count = 0\n",
    "\n",
    "# check if the number of terms is valid\n",
    "    if nterms < 0:\n",
    "       print(\"Please enter a positive integer\")\n",
    "    elif nterms == 0:\n",
    "       print(\"Fibonacci sequence upto\",nterms,\":\")\n",
    "       print(n1)\n",
    "    elif nterms == 1:\n",
    "       print(\"Fibonacci sequence upto\",nterms,\":\")\n",
    "       print(n1)\n",
    "    else:\n",
    "       print(\"Fibonacci sequence:\")\n",
    "       while count < nterms+1:\n",
    "           print(n1)\n",
    "           nth = n1 + (2* n2)\n",
    "       # update values\n",
    "           n1 = n2\n",
    "           n2 = nth\n",
    "           count += 1\n",
    "itt_fib_p()"
   ]
  },
  {
   "cell_type": "markdown",
   "metadata": {},
   "source": [
    "Fp = Fp-1 + Fp-2, with F0 = 1, F1 = 1(iterative)"
   ]
  },
  {
   "cell_type": "code",
   "execution_count": 20,
   "metadata": {
    "scrolled": true
   },
   "outputs": [
    {
     "name": "stdout",
     "output_type": "stream",
     "text": [
      "How many terms? 10\n",
      "Fibonacci sequence:\n",
      "1\n",
      "1\n",
      "2\n",
      "3\n",
      "5\n",
      "8\n",
      "13\n",
      "21\n",
      "34\n",
      "55\n"
     ]
    }
   ],
   "source": [
    "def itt_fib_p():\n",
    "    nterms = int(input(\"How many terms? \"))\n",
    "\n",
    "# first two terms\n",
    "    n1, n2 = 1, 1\n",
    "    count = 0\n",
    "\n",
    "# check if the number of terms is valid\n",
    "    if nterms < 0:\n",
    "       print(\"Please enter a positive integer\")\n",
    "    elif nterms == 0:\n",
    "       print(\"Fibonacci sequence upto\",nterms,\":\")\n",
    "       print(n1)\n",
    "    elif nterms == 1:\n",
    "       print(\"Fibonacci sequence upto\",nterms,\":\")\n",
    "       print(n1)\n",
    "    else:\n",
    "       print(\"Fibonacci sequence:\")\n",
    "       while count < nterms:\n",
    "           print(n1)\n",
    "           nth = n1 + n2\n",
    "       # update values\n",
    "           n1 = n2\n",
    "           n2 = nth\n",
    "           count += 1\n",
    "itt_fib_p()"
   ]
  },
  {
   "cell_type": "markdown",
   "metadata": {},
   "source": [
    "In the Fibonacci series every 3 number is a Even number but in the series when we are multipling the number with 2 and adding the next number which is odd is giving the odd outputs.\n",
    "\n",
    "for example first two numbers are 1,1 ==== (2*1) + 1 = 3\n",
    "so the sequence would be 1,1,3\n",
    "\n",
    "next (1*2)+3=5\n",
    "the sequence is 1,1,3,5\n",
    "\n",
    "The result(latest) would be and will be printed in the seires and as we are adding it to the odd numbers all the time we have only have odd numbers in the sequence.\n",
    "\n",
    "And I have checking for the term n+1 so that the nth term can also be included"
   ]
  },
  {
   "cell_type": "markdown",
   "metadata": {},
   "source": [
    "Fn = Fn-1 + Fn-2, with F0 = 1, F1 = 1(Recursive)"
   ]
  },
  {
   "cell_type": "code",
   "execution_count": 22,
   "metadata": {
    "scrolled": true
   },
   "outputs": [
    {
     "name": "stdout",
     "output_type": "stream",
     "text": [
      "Please enter the number10\n",
      "Fibonacci sequence:\n",
      "1\n",
      "1\n",
      "2\n",
      "3\n",
      "5\n",
      "8\n",
      "13\n",
      "21\n",
      "34\n",
      "55\n"
     ]
    }
   ],
   "source": [
    "def recur_fibo(n):\n",
    "    if n< 0:\n",
    "        print(\"wrong\")\n",
    "    elif n == 0:\n",
    "        return 1\n",
    "    elif n == 1:\n",
    "        return 1\n",
    "    else:\n",
    "       return(recur_fibo(n-1) + recur_fibo(n-2))\n",
    "\n",
    "nterms = int(input(\"Please enter the number\"))\n",
    "\n",
    "# check if the number of terms is valid\n",
    "if nterms <= 0:\n",
    "   print(\"Plese enter a positive integer\")\n",
    "else:\n",
    "   print(\"Fibonacci sequence:\")\n",
    "   for i in range(nterms):\n",
    "       print(recur_fibo(i))"
   ]
  },
  {
   "cell_type": "markdown",
   "metadata": {},
   "source": [
    "Fn = 2Fm-1 + Fm-2, with F0 = 1, F1 = 1(Resursive)"
   ]
  },
  {
   "cell_type": "code",
   "execution_count": 23,
   "metadata": {},
   "outputs": [
    {
     "name": "stdout",
     "output_type": "stream",
     "text": [
      "Please enter the number10\n",
      "Fibonacci sequence:\n",
      "1\n",
      "1\n",
      "3\n",
      "7\n",
      "17\n",
      "41\n",
      "99\n",
      "239\n",
      "577\n",
      "1393\n",
      "3363\n"
     ]
    }
   ],
   "source": [
    "def recur_fibo(m):\n",
    "    if m< 0:\n",
    "        print(\"wrong\")\n",
    "    elif m == 0:\n",
    "        return 1\n",
    "    elif m == 1:\n",
    "        return 1\n",
    "    else:\n",
    "        return((2* recur_fibo(m-1)) + recur_fibo(m-2))\n",
    "\n",
    "mterms = int(input(\"Please enter the number\"))\n",
    "\n",
    "# check if the number of terms is valid\n",
    "if mterms < 0:\n",
    "   print(\"Plese enter a positive integer\")\n",
    "else:\n",
    "   print(\"Fibonacci sequence:\")\n",
    "   for i in range(mterms+1):\n",
    "       print(recur_fibo(i))"
   ]
  },
  {
   "cell_type": "markdown",
   "metadata": {},
   "source": [
    "Fp = Fp-1 + 2Fp-2, with F0 = 1, F1 = 1(Resursive)"
   ]
  },
  {
   "cell_type": "code",
   "execution_count": 24,
   "metadata": {},
   "outputs": [
    {
     "name": "stdout",
     "output_type": "stream",
     "text": [
      "Please enter the number10\n",
      "Fibonacci sequence:\n",
      "1\n",
      "1\n",
      "3\n",
      "5\n",
      "11\n",
      "21\n",
      "43\n",
      "85\n",
      "171\n",
      "341\n",
      "683\n"
     ]
    }
   ],
   "source": [
    "def recur_fibo(p):\n",
    "    if p< 0:\n",
    "        print(\"wrong\")\n",
    "    elif p == 0:\n",
    "        return 1\n",
    "    elif p == 1:\n",
    "        return 1\n",
    "    else:\n",
    "        return(recur_fibo(p-1) + (2 * recur_fibo(p-2)))\n",
    "\n",
    "pterms = int(input(\"Please enter the number\"))\n",
    "\n",
    "# check if the number of terms is valid\n",
    "if pterms <= 0:\n",
    "   print(\"Plese enter a positive integer\")\n",
    "else:\n",
    "   print(\"Fibonacci sequence:\")\n",
    "   for i in range(pterms+1):\n",
    "       print(recur_fibo(i))"
   ]
  },
  {
   "cell_type": "markdown",
   "metadata": {},
   "source": [
    "In the Fibonacci series every 3 number is a Even number but in the series when we are multipling the number with 2 and adding the next number which is odd is giving the odd outputs.\n",
    "\n",
    "for example first two numbers are 1,1 ==== (2*1) + 1 = 3\n",
    "so the sequence would be 1,1,3\n",
    "\n",
    "next (1*2)+3=5\n",
    "the sequence is 1,1,3,5\n",
    "\n",
    "The result(latest) would be and will be printed in the seires and as we are adding it to the odd numbers all the time we have only have odd numbers in the sequence"
   ]
  },
  {
   "cell_type": "markdown",
   "metadata": {},
   "source": [
    "## 5) For each of the series we have looked at, consider the ratio between successive terms:\n",
    "\n",
    "\n",
    "Fn/Fn-1 Fm/Fm-1 and Fp/Fp-1"
   ]
  },
  {
   "cell_type": "markdown",
   "metadata": {},
   "source": [
    "What happens as n, m and p become large? Does it matter if you choose different starting values? (for example F0=1, F1 = 2) Experiment with a few different starting values and see what happens."
   ]
  },
  {
   "cell_type": "markdown",
   "metadata": {},
   "source": [
    "A) According to the golden ratio of fibonacci sequence when you divide the previous number with the current number and continue at one point the ratio would be constant and would be much change. "
   ]
  },
  {
   "cell_type": "code",
   "execution_count": 25,
   "metadata": {},
   "outputs": [
    {
     "name": "stdout",
     "output_type": "stream",
     "text": [
      "Please enter the number till the fibonacci series should consider:10\n",
      "1+1=2, ratio:1.0\n",
      "Ratio: 1.0\n",
      "2+1=3, ratio:2.0\n",
      "Ratio: 2.0\n",
      "3+2=5, ratio:1.5\n",
      "Ratio: 1.5\n",
      "5+3=8, ratio:1.666\n",
      "Ratio: 1.666\n",
      "8+5=13, ratio:1.6\n",
      "Ratio: 1.6\n"
     ]
    }
   ],
   "source": [
    "f0 = 1\n",
    "f1 = 1\n",
    "fa = 0\n",
    "ip = int(input(\"Please enter the number till the fibonacci series should consider:\"))\n",
    "\n",
    "while f0<=ip:\n",
    "    fa = f0+f1;\n",
    "    print('{}+{}={}, ratio:{}'.format(f0,f1,fa,str(f0/f1)[:5]));\n",
    "    print('Ratio:',str(f0/f1)[:5])\n",
    "    f1=f0;\n",
    "    f0=fa;"
   ]
  },
  {
   "cell_type": "markdown",
   "metadata": {},
   "source": [
    "Fm/Fm-1 = Fm = 2Fm-1 + Fm-2, with F0 = 1, F1 = 1"
   ]
  },
  {
   "cell_type": "code",
   "execution_count": 26,
   "metadata": {},
   "outputs": [
    {
     "name": "stdout",
     "output_type": "stream",
     "text": [
      "Please enter the number till the fibonacci series should consider:10\n",
      "1+1=3, ratio:1.0\n",
      "Ratio: 1.0\n",
      "3+1=7, ratio:3.0\n",
      "Ratio: 3.0\n",
      "7+3=17, ratio:2.333\n",
      "Ratio: 2.333\n"
     ]
    }
   ],
   "source": [
    "f0 = 1\n",
    "f1 = 1\n",
    "fm = 0\n",
    "ip = int(input(\"Please enter the number till the fibonacci series should consider:\"))\n",
    "\n",
    "while f0<=ip:\n",
    "    fm = (2*f0)+f1;\n",
    "    print('{}+{}={}, ratio:{}'.format(f0,f1,fm,str(f0/f1)[:5]));\n",
    "    print('Ratio:',str(f0/f1)[:5])\n",
    "    f1=f0;\n",
    "    f0=fm;"
   ]
  },
  {
   "cell_type": "markdown",
   "metadata": {},
   "source": [
    "Fp/Fp-1    = Fp = Fp-1 + 2Fp-2, with F0 = 1, F1 = 1"
   ]
  },
  {
   "cell_type": "code",
   "execution_count": 27,
   "metadata": {
    "scrolled": true
   },
   "outputs": [
    {
     "name": "stdout",
     "output_type": "stream",
     "text": [
      "Please enter the number till the fibonacci series should consider:10\n",
      "1+1=3, ratio:1.0\n",
      "Ratio: 1.0\n",
      "3+1=5, ratio:3.0\n",
      "Ratio: 3.0\n",
      "5+3=11, ratio:1.666\n",
      "Ratio: 1.666\n"
     ]
    }
   ],
   "source": [
    "f0 = 1\n",
    "f1 = 1\n",
    "fp = 0\n",
    "ip = int(input(\"Please enter the number till the fibonacci series should consider:\"))\n",
    "\n",
    "while f0<=ip:\n",
    "    fp = f0+(2*f1);\n",
    "    print('{}+{}={}, ratio:{}'.format(f0,f1,fp,str(f0/f1)[:5]));\n",
    "    print('Ratio:',str(f0/f1)[:5])\n",
    "    f1=f0;\n",
    "    f0=fp;"
   ]
  },
  {
   "cell_type": "markdown",
   "metadata": {},
   "source": [
    "Increasing the basic values for f0=1 & f1= 2. We got the same thing at one point in the ratio there is no much difference"
   ]
  },
  {
   "cell_type": "code",
   "execution_count": 28,
   "metadata": {
    "scrolled": true
   },
   "outputs": [
    {
     "name": "stdout",
     "output_type": "stream",
     "text": [
      "Please enter the number till the fibonacci series should consider:10\n",
      "1+2=3, ratio:0.5\n",
      "Ratio: 0.5\n",
      "3+1=4, ratio:3.0\n",
      "Ratio: 3.0\n",
      "4+3=7, ratio:1.333\n",
      "Ratio: 1.333\n",
      "7+4=11, ratio:1.75\n",
      "Ratio: 1.75\n"
     ]
    }
   ],
   "source": [
    "f0 = 1\n",
    "f1 = 2\n",
    "fa = 0\n",
    "ip = int(input(\"Please enter the number till the fibonacci series should consider:\"))\n",
    "\n",
    "while f0<=ip:\n",
    "    fa = f0+f1;\n",
    "    print('{}+{}={}, ratio:{}'.format(f0,f1,fa,str(f0/f1)[:5]));\n",
    "    print('Ratio:',str(f0/f1)[:5])\n",
    "    f1=f0;\n",
    "    f0=fa;"
   ]
  },
  {
   "cell_type": "markdown",
   "metadata": {},
   "source": [
    "Fm/Fm-1 = Fm = 2Fm-1 + Fm-2, with F0 = 1, F1 = 2"
   ]
  },
  {
   "cell_type": "code",
   "execution_count": 29,
   "metadata": {},
   "outputs": [
    {
     "name": "stdout",
     "output_type": "stream",
     "text": [
      "Please enter the number till the fibonacci series should consider:10\n",
      "1+2=4, ratio:0.5\n",
      "Ratio: 0.5\n",
      "4+1=9, ratio:4.0\n",
      "Ratio: 4.0\n",
      "9+4=22, ratio:2.25\n",
      "Ratio: 2.25\n"
     ]
    }
   ],
   "source": [
    "f0 = 1\n",
    "f1 = 2\n",
    "fm = 0\n",
    "ip = int(input(\"Please enter the number till the fibonacci series should consider:\"))\n",
    "\n",
    "while f0<=ip:\n",
    "    fm = (2*f0)+f1;\n",
    "    print('{}+{}={}, ratio:{}'.format(f0,f1,fm,str(f0/f1)[:5]));\n",
    "    print('Ratio:',str(f0/f1)[:5])\n",
    "    f1=f0;\n",
    "    f0=fm;"
   ]
  },
  {
   "cell_type": "markdown",
   "metadata": {},
   "source": [
    "Fp/Fp-1    = Fp = Fp-1 + 2Fp-2, with F0 = 1, F1 = 2"
   ]
  },
  {
   "cell_type": "code",
   "execution_count": 30,
   "metadata": {},
   "outputs": [
    {
     "name": "stdout",
     "output_type": "stream",
     "text": [
      "Please enter the number till the fibonacci series should consider:10\n",
      "1+2=5, ratio:0.5\n",
      "Ratio: 0.5\n",
      "5+1=7, ratio:5.0\n",
      "Ratio: 5.0\n",
      "7+5=17, ratio:1.4\n",
      "Ratio: 1.4\n"
     ]
    }
   ],
   "source": [
    "f0 = 1\n",
    "f1 = 2\n",
    "fp = 0\n",
    "ip = int(input(\"Please enter the number till the fibonacci series should consider:\"))\n",
    "\n",
    "while f0<=ip:\n",
    "    fp = f0+(2*f1);\n",
    "    print('{}+{}={}, ratio:{}'.format(f0,f1,fp,str(f0/f1)[:5]));\n",
    "    print('Ratio:',str(f0/f1)[:5])\n",
    "    f1=f0;\n",
    "    f0=fp;"
   ]
  },
  {
   "cell_type": "markdown",
   "metadata": {},
   "source": [
    "Increasing the basic values for f0=2 & f1= 3. We got the same thing at one point in the ratio there is no much difference"
   ]
  },
  {
   "cell_type": "code",
   "execution_count": 32,
   "metadata": {},
   "outputs": [
    {
     "name": "stdout",
     "output_type": "stream",
     "text": [
      "Please enter the number till the fibonacci series should consider:10\n",
      "2+3=5, ratio:0.666\n",
      "Ratio: 0.666\n",
      "5+2=7, ratio:2.5\n",
      "Ratio: 2.5\n",
      "7+5=12, ratio:1.4\n",
      "Ratio: 1.4\n"
     ]
    }
   ],
   "source": [
    "f0 = 2\n",
    "f1 = 3\n",
    "fa = 0\n",
    "ip = int(input(\"Please enter the number till the fibonacci series should consider:\"))\n",
    "\n",
    "while f0<=ip:\n",
    "    fa = f0+f1;\n",
    "    print('{}+{}={}, ratio:{}'.format(f0,f1,fa,str(f0/f1)[:5]));\n",
    "    print('Ratio:',str(f0/f1)[:5])\n",
    "    f1=f0;\n",
    "    f0=fa;"
   ]
  }
 ],
 "metadata": {
  "kernelspec": {
   "display_name": "Python 3",
   "language": "python",
   "name": "python3"
  },
  "language_info": {
   "codemirror_mode": {
    "name": "ipython",
    "version": 3
   },
   "file_extension": ".py",
   "mimetype": "text/x-python",
   "name": "python",
   "nbconvert_exporter": "python",
   "pygments_lexer": "ipython3",
   "version": "3.8.2"
  }
 },
 "nbformat": 4,
 "nbformat_minor": 4
}
